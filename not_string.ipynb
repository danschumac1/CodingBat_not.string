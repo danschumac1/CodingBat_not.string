{
 "cells": [
  {
   "cell_type": "markdown",
   "id": "69193935",
   "metadata": {},
   "source": [
    "# Warmup-1 > not_string"
   ]
  },
  {
   "cell_type": "markdown",
   "id": "5a4da874",
   "metadata": {},
   "source": [
    "Given a string, return a new string where \"not \" has been added to the front. However, if the string already begins with \"not\", return the string unchanged.\n",
    "\n",
    "\n",
    "not_string('candy') → 'not candy'\n",
    "not_string('x') → 'not x'\n",
    "not_string('not bad') → 'not bad'"
   ]
  },
  {
   "cell_type": "code",
   "execution_count": 1,
   "id": "a596f7d6",
   "metadata": {},
   "outputs": [],
   "source": [
    "def not_string(str):\n",
    "  \n",
    "  if str.lower()[0:3]==\"not\":\n",
    "    return str\n",
    "  else:\n",
    "    return \"not \" + str"
   ]
  }
 ],
 "metadata": {
  "kernelspec": {
   "display_name": "Python 3 (ipykernel)",
   "language": "python",
   "name": "python3"
  },
  "language_info": {
   "codemirror_mode": {
    "name": "ipython",
    "version": 3
   },
   "file_extension": ".py",
   "mimetype": "text/x-python",
   "name": "python",
   "nbconvert_exporter": "python",
   "pygments_lexer": "ipython3",
   "version": "3.9.12"
  }
 },
 "nbformat": 4,
 "nbformat_minor": 5
}
